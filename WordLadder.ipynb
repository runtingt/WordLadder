{
 "cells": [
  {
   "cell_type": "markdown",
   "id": "0c696ca2",
   "metadata": {},
   "source": [
    "# Solving a word ladder problem\n",
    "Inspired by Weaver: https://wordwormdormdork.com/"
   ]
  },
  {
   "cell_type": "markdown",
   "id": "b8d69cc2",
   "metadata": {},
   "source": [
    "Import the word list and relevant functions from the backend"
   ]
  },
  {
   "cell_type": "code",
   "execution_count": 1,
   "id": "e2d6643f",
   "metadata": {},
   "outputs": [],
   "source": [
    "from weaver import solve\n",
    "from IPython.display import IFrame"
   ]
  },
  {
   "cell_type": "markdown",
   "id": "55c74815",
   "metadata": {},
   "source": [
    "Get the start and target from the user and solve the ladder"
   ]
  },
  {
   "cell_type": "code",
   "execution_count": 3,
   "id": "9e92b906",
   "metadata": {},
   "outputs": [
    {
     "name": "stdout",
     "output_type": "stream",
     "text": [
      "Possible shortest paths:\n",
      "('grow', 'brow', 'bros', 'bios', 'bits', 'bite', 'dite', 'dive')\n",
      "('grow', 'brow', 'bros', 'bios', 'bins', 'bine', 'dine', 'dive')\n",
      "('grow', 'brow', 'bros', 'bios', 'bins', 'dins', 'dine', 'dive')\n",
      "('grow', 'brow', 'bros', 'bios', 'bits', 'dits', 'dite', 'dive')\n",
      "Best Score: 7\n"
     ]
    },
    {
     "data": {
      "text/html": [
       "\n",
       "        <iframe\n",
       "            width=\"100%\"\n",
       "            height=\"500\"\n",
       "            src=\"graph.html\"\n",
       "            frameborder=\"0\"\n",
       "            allowfullscreen\n",
       "            \n",
       "        ></iframe>\n",
       "        "
      ],
      "text/plain": [
       "<IPython.lib.display.IFrame at 0x2883a64cf10>"
      ]
     },
     "execution_count": 3,
     "metadata": {},
     "output_type": "execute_result"
    }
   ],
   "source": [
    "start = input(\"Enter a start word: \")\n",
    "target = input(\"Enter a target word: \")\n",
    "\n",
    "network = solve(start, target)\n",
    "network.show(\"graph.html\")\n",
    "IFrame(src='graph.html', width=\"100%\", height=500)"
   ]
  },
  {
   "cell_type": "code",
   "execution_count": null,
   "id": "3ef32630",
   "metadata": {},
   "outputs": [],
   "source": []
  }
 ],
 "metadata": {
  "kernelspec": {
   "display_name": "Python 3 (ipykernel)",
   "language": "python",
   "name": "python3"
  },
  "language_info": {
   "codemirror_mode": {
    "name": "ipython",
    "version": 3
   },
   "file_extension": ".py",
   "mimetype": "text/x-python",
   "name": "python",
   "nbconvert_exporter": "python",
   "pygments_lexer": "ipython3",
   "version": "3.9.7"
  }
 },
 "nbformat": 4,
 "nbformat_minor": 5
}
